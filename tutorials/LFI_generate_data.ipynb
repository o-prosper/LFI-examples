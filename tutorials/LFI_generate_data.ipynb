{
 "cells": [
  {
   "cell_type": "markdown",
   "metadata": {
    "id": "40Yb47zJQglm"
   },
   "source": [
    "# Likelihood-Free Inference - Data Generation\n",
    "\n",
    "Ali Al Kadhim and Harrison B. Prosper<br>\n",
    "Department of Physics, Florida State University<br>\n",
    "Date: 22 April 2022\n",
    "\n",
    "## Description\n",
    "\n",
    "In this notebook we generate data comprising the triplets $(Z_i, \\theta_i, D_i)$ where \n",
    "\n",
    "$\n",
    "\\begin{align}\n",
    "\\theta & \\sim \\textrm{uniform}(0, 20), \\\\\n",
    "N & \\sim \\textrm{poisson}(\\theta),\\\\\n",
    "D & \\sim \\textrm{randint}(0, 10), \\textrm{ and } \\\\\n",
    "Z & = I[ n \\leq D ],\n",
    "\\end{align}\n",
    "$\n",
    "\n",
    "where $I$ is the indicator function. \n",
    "\n",
    "These data are used in __LFI_train.ipynb__ to fit a model that approximates $E(Z | \\theta, D)$, which can be used to compute upper limits, with exact coverage, for the Poisson parameter $\\theta$."
   ]
  },
  {
   "cell_type": "code",
   "execution_count": 1,
   "metadata": {
    "id": "FA1Y5VCv20XZ"
   },
   "outputs": [],
   "source": [
    "import os, sys\n",
    "\n",
    "# the standard module for array manipulation\n",
    "import numpy as np\n",
    "\n",
    "# the standard module for tabular data\n",
    "import pandas as pd\n",
    "\n",
    "# standard scientific python module\n",
    "import scipy as sp\n",
    "import scipy.stats as st\n",
    "\n",
    "#  a function to save results\n",
    "import joblib as jb"
   ]
  },
  {
   "cell_type": "markdown",
   "metadata": {},
   "source": [
    "### Generate data\n",
    "\n",
    "$\n",
    "\\begin{align}\n",
    "\\theta & \\sim \\textrm{uniform}(0, 20), \\\\\n",
    "N & \\sim \\textrm{poisson}(\\theta),\\\\\n",
    "D & \\sim \\textrm{randint}(0, 10), \\textrm{ and } \\\\\n",
    "Z & = I[ N \\leq D ],\n",
    "\\end{align}\n",
    "$"
   ]
  },
  {
   "cell_type": "code",
   "execution_count": 2,
   "metadata": {},
   "outputs": [
    {
     "name": "stdout",
     "output_type": "stream",
     "text": [
      "data.db\n"
     ]
    },
    {
     "data": {
      "text/plain": [
       "['data.db']"
      ]
     },
     "execution_count": 2,
     "metadata": {},
     "output_type": "execute_result"
    }
   ],
   "source": [
    "Ndata    = 510000\n",
    "thetaMin =  0\n",
    "thetaMax = 20\n",
    "Dmin     =  0\n",
    "Dmax     = 10\n",
    "\n",
    "filename = 'data.db'\n",
    "print(filename)\n",
    "\n",
    "theta = st.uniform.rvs(thetaMin, thetaMax, size=Ndata)\n",
    "N     = st.poisson.rvs(theta)\n",
    "D     = st.randint.rvs(Dmin, Dmax, size=Ndata)\n",
    "Z     = (N <= D).astype(np.int32)\n",
    "\n",
    "# save in a pandas dataframe\n",
    "data = pd.DataFrame({'Z': Z, 'theta': theta, 'D': D})\n",
    "jb.dump(data, filename)"
   ]
  },
  {
   "cell_type": "code",
   "execution_count": null,
   "metadata": {},
   "outputs": [],
   "source": []
  }
 ],
 "metadata": {
  "accelerator": "GPU",
  "colab": {
   "collapsed_sections": [],
   "name": "DRL_19_REINFORCE_Algorithm.ipynb",
   "provenance": []
  },
  "kernelspec": {
   "display_name": "Python 3",
   "language": "python",
   "name": "python3"
  },
  "language_info": {
   "codemirror_mode": {
    "name": "ipython",
    "version": 3
   },
   "file_extension": ".py",
   "mimetype": "text/x-python",
   "name": "python",
   "nbconvert_exporter": "python",
   "pygments_lexer": "ipython3",
   "version": "3.8.1"
  }
 },
 "nbformat": 4,
 "nbformat_minor": 1
}
